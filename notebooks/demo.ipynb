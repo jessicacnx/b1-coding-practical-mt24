{
 "cells": [
  {
   "cell_type": "code",
   "execution_count": 1,
   "metadata": {},
   "outputs": [],
   "source": [
    "# Add relevant Jupyter notebook extensions "
   ]
  },
  {
   "cell_type": "code",
   "execution_count": null,
   "metadata": {},
   "outputs": [],
   "source": [
    "# You can double-check your Python path like this...\n",
    "import sys  \n",
    "print(sys.path)"
   ]
  },
  {
   "cell_type": "markdown",
   "metadata": {},
   "source": [
    "# Simulate closed-loop\n",
    "After implementing your control functionality, you can simulate the closed-loop with code that looks something like this..."
   ]
  },
  {
   "cell_type": "code",
   "execution_count": 5,
   "metadata": {},
   "outputs": [
    {
     "ename": "ModuleNotFoundError",
     "evalue": "No module named 'control'",
     "output_type": "error",
     "traceback": [
      "\u001b[1;31m---------------------------------------------------------------------------\u001b[0m",
      "\u001b[1;31mModuleNotFoundError\u001b[0m                       Traceback (most recent call last)",
      "Cell \u001b[1;32mIn[5], line 2\u001b[0m\n\u001b[0;32m      1\u001b[0m \u001b[38;5;66;03m# Import relevant modules\u001b[39;00m\n\u001b[1;32m----> 2\u001b[0m \u001b[38;5;28;01mimport\u001b[39;00m \u001b[38;5;21;01mcontrol\u001b[39;00m\n\u001b[0;32m      3\u001b[0m \u001b[38;5;28;01mimport\u001b[39;00m \u001b[38;5;21;01mdynamic\u001b[39;00m\n\u001b[0;32m      5\u001b[0m sub \u001b[38;5;241m=\u001b[39m Submarine()\n",
      "\u001b[1;31mModuleNotFoundError\u001b[0m: No module named 'control'"
     ]
    }
   ],
   "source": [
    "# Import relevant modules\n",
    "from dynamic import Submarine\n",
    "from control import controller\n",
    "\n",
    "sub = Submarine()\n",
    "# Instantiate your controller (depending on your implementation)\n",
    "closed_loop = ClosedLoop(sub, controller)\n",
    "mission = Mission.from_csv(\"path/to/file\") # You must implement this method in the Mission class\n",
    "\n",
    "trajectory = closed_loop.simulate_with_random_disturbances(mission)\n",
    "trajectory.plot_completed_mission(mission)"
   ]
  }
 ],
 "metadata": {
  "kernelspec": {
   "display_name": "Python 3",
   "language": "python",
   "name": "python3"
  },
  "language_info": {
   "codemirror_mode": {
    "name": "ipython",
    "version": 3
   },
   "file_extension": ".py",
   "mimetype": "text/x-python",
   "name": "python",
   "nbconvert_exporter": "python",
   "pygments_lexer": "ipython3",
   "version": "3.11.0"
  }
 },
 "nbformat": 4,
 "nbformat_minor": 2
}
